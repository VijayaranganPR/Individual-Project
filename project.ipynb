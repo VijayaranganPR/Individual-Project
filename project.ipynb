{
 "cells": [
  {
   "cell_type": "code",
   "execution_count": 1,
   "id": "2ac2465c",
   "metadata": {},
   "outputs": [],
   "source": [
    "# ! pip install pandas\n",
    "# ! pip install numpy\n",
    "# ! pip install matplotlib\n",
    "# ! pip install pmdarima\n",
    "# ! pip install arch"
   ]
  },
  {
   "cell_type": "code",
   "execution_count": 2,
   "id": "76cb50e9",
   "metadata": {},
   "outputs": [],
   "source": [
    "import pandas as pd\n",
    "from datetime import datetime\n",
    "import seaborn as sns\n",
    "import numpy as np\n",
    "import matplotlib.pyplot as plt\n",
    "import math\n",
    "import scipy.stats as scs\n",
    "from statsmodels.graphics.tsaplots import plot_acf\n",
    "from statsmodels.tsa.statespace.sarimax import SARIMAX\n",
    "import pmdarima as pm\n",
    "#from arch import arch_model\n",
    "from arch.univariate import HARX\n",
    "import warnings\n",
    "from statsmodels.tools.sm_exceptions import ValueWarning\n",
    "warnings.simplefilter('ignore', ValueWarning)\n"
   ]
  },
  {
   "cell_type": "markdown",
   "id": "87dcf65c",
   "metadata": {},
   "source": [
    "# Task 1"
   ]
  },
  {
   "cell_type": "markdown",
   "id": "e6c07116",
   "metadata": {},
   "source": [
    "### Task 1.1"
   ]
  },
  {
   "cell_type": "code",
   "execution_count": 3,
   "id": "f0c8089f",
   "metadata": {},
   "outputs": [
    {
     "name": "stdout",
     "output_type": "stream",
     "text": [
      "(985176, 11)\n",
      "Index(['DATE', 'TIME_M', 'SYM_ROOT', 'EX', 'SIZE', 'PRICE', 'NBO', 'NBB',\n",
      "       'NBOqty', 'NBBqty', 'BuySell'],\n",
      "      dtype='object')\n"
     ]
    },
    {
     "data": {
      "text/html": [
       "<div>\n",
       "<style scoped>\n",
       "    .dataframe tbody tr th:only-of-type {\n",
       "        vertical-align: middle;\n",
       "    }\n",
       "\n",
       "    .dataframe tbody tr th {\n",
       "        vertical-align: top;\n",
       "    }\n",
       "\n",
       "    .dataframe thead th {\n",
       "        text-align: right;\n",
       "    }\n",
       "</style>\n",
       "<table border=\"1\" class=\"dataframe\">\n",
       "  <thead>\n",
       "    <tr style=\"text-align: right;\">\n",
       "      <th></th>\n",
       "      <th>DATE</th>\n",
       "      <th>TIME_M</th>\n",
       "      <th>SYM_ROOT</th>\n",
       "      <th>EX</th>\n",
       "      <th>SIZE</th>\n",
       "      <th>PRICE</th>\n",
       "      <th>NBO</th>\n",
       "      <th>NBB</th>\n",
       "      <th>NBOqty</th>\n",
       "      <th>NBBqty</th>\n",
       "      <th>BuySell</th>\n",
       "    </tr>\n",
       "  </thead>\n",
       "  <tbody>\n",
       "    <tr>\n",
       "      <th>0</th>\n",
       "      <td>02JAN2020</td>\n",
       "      <td>34200.226</td>\n",
       "      <td>IBM</td>\n",
       "      <td>P</td>\n",
       "      <td>1.0</td>\n",
       "      <td>135.10</td>\n",
       "      <td>135.1</td>\n",
       "      <td>134.88</td>\n",
       "      <td>500.0</td>\n",
       "      <td>100.0</td>\n",
       "      <td>1.0</td>\n",
       "    </tr>\n",
       "    <tr>\n",
       "      <th>1</th>\n",
       "      <td>02JAN2020</td>\n",
       "      <td>34200.226</td>\n",
       "      <td>IBM</td>\n",
       "      <td>P</td>\n",
       "      <td>1.0</td>\n",
       "      <td>135.10</td>\n",
       "      <td>135.1</td>\n",
       "      <td>134.88</td>\n",
       "      <td>500.0</td>\n",
       "      <td>100.0</td>\n",
       "      <td>1.0</td>\n",
       "    </tr>\n",
       "    <tr>\n",
       "      <th>2</th>\n",
       "      <td>02JAN2020</td>\n",
       "      <td>34200.381</td>\n",
       "      <td>IBM</td>\n",
       "      <td>K</td>\n",
       "      <td>1.0</td>\n",
       "      <td>135.09</td>\n",
       "      <td>135.1</td>\n",
       "      <td>134.62</td>\n",
       "      <td>500.0</td>\n",
       "      <td>600.0</td>\n",
       "      <td>1.0</td>\n",
       "    </tr>\n",
       "    <tr>\n",
       "      <th>3</th>\n",
       "      <td>02JAN2020</td>\n",
       "      <td>34200.600</td>\n",
       "      <td>IBM</td>\n",
       "      <td>N</td>\n",
       "      <td>74082.0</td>\n",
       "      <td>135.00</td>\n",
       "      <td>135.1</td>\n",
       "      <td>134.62</td>\n",
       "      <td>500.0</td>\n",
       "      <td>600.0</td>\n",
       "      <td>1.0</td>\n",
       "    </tr>\n",
       "    <tr>\n",
       "      <th>4</th>\n",
       "      <td>02JAN2020</td>\n",
       "      <td>34200.600</td>\n",
       "      <td>IBM</td>\n",
       "      <td>N</td>\n",
       "      <td>74082.0</td>\n",
       "      <td>135.00</td>\n",
       "      <td>135.1</td>\n",
       "      <td>134.62</td>\n",
       "      <td>500.0</td>\n",
       "      <td>600.0</td>\n",
       "      <td>1.0</td>\n",
       "    </tr>\n",
       "  </tbody>\n",
       "</table>\n",
       "</div>"
      ],
      "text/plain": [
       "        DATE     TIME_M SYM_ROOT EX     SIZE   PRICE    NBO     NBB  NBOqty  \\\n",
       "0  02JAN2020  34200.226      IBM  P      1.0  135.10  135.1  134.88   500.0   \n",
       "1  02JAN2020  34200.226      IBM  P      1.0  135.10  135.1  134.88   500.0   \n",
       "2  02JAN2020  34200.381      IBM  K      1.0  135.09  135.1  134.62   500.0   \n",
       "3  02JAN2020  34200.600      IBM  N  74082.0  135.00  135.1  134.62   500.0   \n",
       "4  02JAN2020  34200.600      IBM  N  74082.0  135.00  135.1  134.62   500.0   \n",
       "\n",
       "   NBBqty  BuySell  \n",
       "0   100.0      1.0  \n",
       "1   100.0      1.0  \n",
       "2   600.0      1.0  \n",
       "3   600.0      1.0  \n",
       "4   600.0      1.0  "
      ]
     },
     "execution_count": 3,
     "metadata": {},
     "output_type": "execute_result"
    }
   ],
   "source": [
    "# Read the CSV file into a pandas DataFrame\n",
    "df = pd.read_csv('content/IBM_202001.csv.gz', compression='gzip')\n",
    "\n",
    "# Display the first few rows of the DataFrame\n",
    "print(df.shape)\n",
    "print(df.columns)\n",
    "df.head()\n"
   ]
  },
  {
   "cell_type": "code",
   "execution_count": 4,
   "id": "1f8cdc6b",
   "metadata": {},
   "outputs": [
    {
     "data": {
      "text/plain": [
       "985176"
      ]
     },
     "execution_count": 4,
     "metadata": {},
     "output_type": "execute_result"
    }
   ],
   "source": [
    "original_length = len(df)\n",
    "data = df.copy()\n",
    "original_length"
   ]
  },
  {
   "cell_type": "code",
   "execution_count": 5,
   "id": "21b12ea7",
   "metadata": {},
   "outputs": [
    {
     "name": "stdout",
     "output_type": "stream",
     "text": [
      "0\n"
     ]
    }
   ],
   "source": [
    "# Removing entries with either transaction price, transaction size, ask price, ask size, bid price or bid size ≤ 0\n",
    "df_out = (df['NBB'] <= 0) | (df['NBBqty'] <= 0) |  (df['NBO'] <= 0) | (df['NBOqty'] <= 0) | (df['PRICE'] <= 0) | (df['SIZE'] <= 0)\n",
    "df = df[~df_out].reset_index(drop=True)\n",
    "\n",
    "# calculating no. of entries removed in f1\n",
    "f1 = original_length - len(df)\n",
    "f1_cleaned_length = len(df)\n",
    "print(f1)"
   ]
  },
  {
   "cell_type": "code",
   "execution_count": 6,
   "id": "8c83fca7",
   "metadata": {},
   "outputs": [
    {
     "name": "stdout",
     "output_type": "stream",
     "text": [
      "14375\n"
     ]
    }
   ],
   "source": [
    "# Remove entries with negative bid-ask spread\n",
    "df['SPREAD'] = df['NBO'] - df['NBB']\n",
    "df = df[~(df['SPREAD'] <= 0)].reset_index(drop=True)\n",
    "\n",
    "f2 = f1_cleaned_length - len(df)\n",
    "f2_cleaned_length = len(df)\n",
    "print(f2)"
   ]
  },
  {
   "cell_type": "code",
   "execution_count": 7,
   "id": "30e464e3",
   "metadata": {},
   "outputs": [],
   "source": [
    "df['Stamp'] = pd.to_datetime(df['DATE'], format='%d%b%Y') + df['TIME_M'].apply(lambda x: pd.Timedelta(x,unit='sec'))"
   ]
  },
  {
   "cell_type": "code",
   "execution_count": 8,
   "id": "ddb5961c",
   "metadata": {},
   "outputs": [
    {
     "name": "stdout",
     "output_type": "stream",
     "text": [
      "222406\n"
     ]
    }
   ],
   "source": [
    "# Group by 'DATE', 'TIME', 'EX', and 'BuySell'\n",
    "df = df.groupby(['Stamp', 'DATE', 'EX', 'BuySell']).agg({\n",
    "    'PRICE': 'median',\n",
    "    'NBO': 'median',\n",
    "    'NBB': 'median',\n",
    "    'SIZE': 'sum',\n",
    "    'NBOqty': 'sum',\n",
    "    'NBBqty': 'sum'\n",
    "}).reset_index()\n",
    "\n",
    "f3 = f2_cleaned_length - len(df)\n",
    "f3_cleaned_length = len(df)\n",
    "print(f3)"
   ]
  },
  {
   "cell_type": "code",
   "execution_count": 9,
   "id": "0794d16d",
   "metadata": {},
   "outputs": [
    {
     "name": "stdout",
     "output_type": "stream",
     "text": [
      "0\n"
     ]
    }
   ],
   "source": [
    "# Remove entries for which the spread is more that 50 times the median spread on that day\n",
    "df['SPREAD'] = df['NBO'] - df['NBB']\n",
    "\n",
    "medspread = df['SPREAD'].median()\n",
    "df = df[~(df['SPREAD'] > 50*medspread)].reset_index(drop=True)\n",
    "\n",
    "f4 = f3_cleaned_length - len(df)\n",
    "f4_cleaned_length = len(df)\n",
    "print(f4)"
   ]
  },
  {
   "cell_type": "code",
   "execution_count": 10,
   "id": "57098bc8",
   "metadata": {},
   "outputs": [
    {
     "name": "stdout",
     "output_type": "stream",
     "text": [
      "7063\n"
     ]
    }
   ],
   "source": [
    "## Delete entries with prices that are above the `ask' plus the bid–ask spread. \n",
    "## Similar for entries with prices below the `bid' minus the bid–ask spread\n",
    "df_out = (df['PRICE'] > df['NBO'] + df['SPREAD']) | (df['PRICE'] < df['NBB'] - df['SPREAD'])\n",
    "df = df[~df_out]\n",
    "\n",
    "f5 = f4_cleaned_length - len(df)\n",
    "f5_cleaned_length = len(df)\n",
    "print(f5)"
   ]
  },
  {
   "cell_type": "code",
   "execution_count": 11,
   "id": "14ae544a",
   "metadata": {},
   "outputs": [
    {
     "data": {
      "text/html": [
       "<div>\n",
       "<style scoped>\n",
       "    .dataframe tbody tr th:only-of-type {\n",
       "        vertical-align: middle;\n",
       "    }\n",
       "\n",
       "    .dataframe tbody tr th {\n",
       "        vertical-align: top;\n",
       "    }\n",
       "\n",
       "    .dataframe thead th {\n",
       "        text-align: right;\n",
       "    }\n",
       "</style>\n",
       "<table border=\"1\" class=\"dataframe\">\n",
       "  <thead>\n",
       "    <tr style=\"text-align: right;\">\n",
       "      <th></th>\n",
       "      <th>F1</th>\n",
       "      <th>F2</th>\n",
       "      <th>F3</th>\n",
       "      <th>F4</th>\n",
       "      <th>F5</th>\n",
       "    </tr>\n",
       "  </thead>\n",
       "  <tbody>\n",
       "    <tr>\n",
       "      <th>Number</th>\n",
       "      <td>0.0</td>\n",
       "      <td>14375.00</td>\n",
       "      <td>222406.00</td>\n",
       "      <td>0.0</td>\n",
       "      <td>7063.00</td>\n",
       "    </tr>\n",
       "    <tr>\n",
       "      <th>Proportion</th>\n",
       "      <td>0.0</td>\n",
       "      <td>1.46</td>\n",
       "      <td>22.58</td>\n",
       "      <td>0.0</td>\n",
       "      <td>0.72</td>\n",
       "    </tr>\n",
       "  </tbody>\n",
       "</table>\n",
       "</div>"
      ],
      "text/plain": [
       "             F1        F2         F3   F4       F5\n",
       "Number      0.0  14375.00  222406.00  0.0  7063.00\n",
       "Proportion  0.0      1.46      22.58  0.0     0.72"
      ]
     },
     "execution_count": 11,
     "metadata": {},
     "output_type": "execute_result"
    }
   ],
   "source": [
    "summary = pd.DataFrame({\n",
    "    'F1': [f1, f1/original_length*100],\n",
    "    'F2': [f2, f2/original_length*100],\n",
    "    'F3': [f3, f3/original_length*100],\n",
    "    'F4': [f4, f4/original_length*100],\n",
    "    'F5': [f5, f5/original_length*100],\n",
    "}, index=['Number', 'Proportion'])\n",
    "summary.round(2)"
   ]
  },
  {
   "cell_type": "markdown",
   "id": "262be309",
   "metadata": {},
   "source": [
    "### Task 1.2"
   ]
  },
  {
   "cell_type": "code",
   "execution_count": 12,
   "id": "3c48e44b",
   "metadata": {},
   "outputs": [],
   "source": [
    "df.set_index('Stamp', drop=True, inplace = True)"
   ]
  },
  {
   "cell_type": "code",
   "execution_count": 20,
   "id": "07f23400",
   "metadata": {},
   "outputs": [],
   "source": [
    "df['Return'] = np.log(df['PRICE']/df['PRICE'].shift(1))\n",
    "returns = df['Return'].dropna()\n",
    "\n",
    "# Assuming 'df' is your DataFrame containing the dataset\n",
    "# Convert 'Stamp' column to datetime if it's not already in datetime format\n",
    "\n",
    "# Function to compute Realized Volatility (RV)\n",
    "def realized_volatility(returns):\n",
    "    return np.sum(returns ** 2)\n",
    "\n",
    "# Function to compute Bipower Variation (BV)\n",
    "def bipower_variation(returns):\n",
    "    ret = np.absolute(returns).values\n",
    "    return np.pi/2*sum(ret[0:-1]*ret[1:])\n",
    "\n",
    "# Function to compute Truncated Realized Volatility (TRV)\n",
    "def truncated_realized_volatility(returns, RV, BV):\n",
    "    ret = np.absolute(returns).values\n",
    "    u = 3/np.sqrt(len(ret))*np.sqrt(min(RV,BV))\n",
    "    return sum(ret**2*(ret <= u))\n",
    "\n",
    "# Resample at different frequencies and compute measures\n",
    "sampling_frequencies = ['1s', '2s', '3s', '4s', '5s', '10s', '15s', '20s', '30s', \n",
    "                        '40s', '50s', '1min', '2min', '3min', '4min', '5min', \n",
    "                        '6min', '7min', '8min', '9min', '10min', '15min', '20min', '30min']\n",
    "\n",
    "RVdf = pd.DataFrame(index=pd.unique(df.index.date), columns=sampling_frequencies)\n",
    "BVdf = pd.DataFrame(index=pd.unique(df.index.date), columns=sampling_frequencies)\n",
    "TRVdf = pd.DataFrame(index=pd.unique(df.index.date), columns=sampling_frequencies)\n",
    "\n",
    "for date in pd.unique(df.index.date):\n",
    "    daily_data = df[df.index.date == date].copy()\n",
    "    daily_data.dropna(inplace= True)\n",
    "    for freq in sampling_frequencies:\n",
    "        resampled_data = daily_data.resample(rule=freq,closed ='right',label ='right').apply('sum')\n",
    "        returns = resampled_data['Return']\n",
    "        RV = realized_volatility(returns)\n",
    "        BV = bipower_variation(returns)\n",
    "        TRV = truncated_realized_volatility(returns, RV, BV)\n",
    "        RVdf.at[date, freq] = RV\n",
    "        BVdf.at[date, freq] = BV\n",
    "        TRVdf.at[date, freq] = TRV\n",
    "        \n",
    "\n",
    "RVdf = RVdf*10000\n",
    "BVdf = BVdf*10000\n",
    "TRVdf = TRVdf*10000"
   ]
  },
  {
   "cell_type": "code",
   "execution_count": 21,
   "id": "29cebdf3",
   "metadata": {},
   "outputs": [
    {
     "data": {
      "image/png": "[encoded data removed]",
      "text/plain": [
       "<Figure size 1400x400 with 3 Axes>"
      ]
     },
     "metadata": {},
     "output_type": "display_data"
    }
   ],
   "source": [
    "\n",
    "# Compute Average RVs across different days\n",
    "RVav = RVdf.mean()\n",
    "# Convert index to integers (sec)\n",
    "RVav.index\n",
    "time_RV = [0] + [pd.Timedelta(x).total_seconds() for x in RVav.index[1:]]\n",
    "\n",
    "\n",
    "# Compute Average RVs across different days\n",
    "BVav = BVdf.mean()\n",
    "# Convert index to integers (sec)\n",
    "BVav.index\n",
    "time_BV = [0] + [pd.Timedelta(x).total_seconds() for x in BVav.index[1:]]\n",
    "\n",
    "\n",
    "# Compute Average RVs across different days\n",
    "TRVav = TRVdf.mean()\n",
    "# Convert index to integers (sec)\n",
    "TRVav.index\n",
    "time_TRV = [0] + [pd.Timedelta(x).total_seconds() for x in TRVav.index[1:]]\n",
    "\n",
    "\n",
    "\n",
    "fig, axes = plt.subplots(nrows=1,ncols=3,figsize=(14,4))\n",
    "\n",
    "sns.scatterplot(x=time_RV,y=RVav,ax=axes[0])\n",
    "axes[0].set_title('RV signature plot')\n",
    "axes[0].set_xlabel('Sampling frequency (secs)')\n",
    "axes[0].set_ylabel('Averaged RV')\n",
    "\n",
    "sns.scatterplot(x=time_BV,y=BVav,ax=axes[1])\n",
    "axes[0].set_title('BV signature plot')\n",
    "axes[1].set_xlabel('Sampling frequency (secs)')\n",
    "axes[1].set_ylabel('Averaged BV')\n",
    "\n",
    "sns.scatterplot(x=time_TRV,y=TRVav,ax=axes[2])\n",
    "axes[0].set_title('TRV signature plot')\n",
    "axes[2].set_xlabel('Sampling frequency (secs)')\n",
    "axes[2].set_ylabel('Averaged TRV')\n",
    "\n",
    "plt.tight_layout()"
   ]
  },
  {
   "cell_type": "markdown",
   "id": "d78bad1e",
   "metadata": {},
   "source": [
    "# Task 2"
   ]
  },
  {
   "cell_type": "markdown",
   "id": "74f78bb5",
   "metadata": {},
   "source": [
    "### Task 2.1"
   ]
  },
  {
   "cell_type": "code",
   "execution_count": 1,
   "id": "50773e44",
   "metadata": {},
   "outputs": [
    {
     "name": "stdout",
     "output_type": "stream",
     "text": [
      "This is task 2\n"
     ]
    }
   ],
   "source": [
    "print('This is task 2')"
   ]
  },
  {
   "cell_type": "code",
   "execution_count": null,
   "id": "e7e88bc1",
   "metadata": {},
   "outputs": [],
   "source": []
  }
 ],
 "metadata": {
  "kernelspec": {
   "display_name": "Python 3 (ipykernel)",
   "language": "python",
   "name": "python3"
  },
  "language_info": {
   "codemirror_mode": {
    "name": "ipython",
    "version": 3
   },
   "file_extension": ".py",
   "mimetype": "text/x-python",
   "name": "python",
   "nbconvert_exporter": "python",
   "pygments_lexer": "ipython3",
   "version": "3.12.1"
  }
 },
 "nbformat": 4,
 "nbformat_minor": 5
}
